{
 "cells": [
  {
   "cell_type": "markdown",
   "metadata": {},
   "source": [
    "## LE dataset"
   ]
  },
  {
   "cell_type": "code",
   "execution_count": null,
   "metadata": {},
   "outputs": [],
   "source": []
  },
  {
   "cell_type": "code",
   "execution_count": 1,
   "metadata": {},
   "outputs": [],
   "source": [
    "import pandas as pd\n",
    "import numpy as np\n",
    "import matplotlib.pyplot as plt\n",
    "import seaborn as sns"
   ]
  },
  {
   "cell_type": "code",
   "execution_count": 2,
   "metadata": {},
   "outputs": [
    {
     "data": {
      "text/html": [
       "<div>\n",
       "<style scoped>\n",
       "    .dataframe tbody tr th:only-of-type {\n",
       "        vertical-align: middle;\n",
       "    }\n",
       "\n",
       "    .dataframe tbody tr th {\n",
       "        vertical-align: top;\n",
       "    }\n",
       "\n",
       "    .dataframe thead th {\n",
       "        text-align: right;\n",
       "    }\n",
       "</style>\n",
       "<table border=\"1\" class=\"dataframe\">\n",
       "  <thead>\n",
       "    <tr style=\"text-align: right;\">\n",
       "      <th></th>\n",
       "      <th>run</th>\n",
       "      <th>dmgfuncpar</th>\n",
       "      <th>climate</th>\n",
       "      <th>SSP</th>\n",
       "      <th>RCP</th>\n",
       "      <th>N</th>\n",
       "      <th>ISO3</th>\n",
       "      <th>prtp</th>\n",
       "      <th>eta</th>\n",
       "      <th>dr</th>\n",
       "      <th>16.7%</th>\n",
       "      <th>50%</th>\n",
       "      <th>83.3%</th>\n",
       "    </tr>\n",
       "  </thead>\n",
       "  <tbody>\n",
       "    <tr>\n",
       "      <th>0</th>\n",
       "      <td>bhm_lr</td>\n",
       "      <td>bootstrap</td>\n",
       "      <td>expected</td>\n",
       "      <td>SSP1</td>\n",
       "      <td>rcp45</td>\n",
       "      <td>1000</td>\n",
       "      <td>AFG</td>\n",
       "      <td>1.0</td>\n",
       "      <td>0p7</td>\n",
       "      <td>NaN</td>\n",
       "      <td>0.909221</td>\n",
       "      <td>3.001487</td>\n",
       "      <td>4.753647</td>\n",
       "    </tr>\n",
       "    <tr>\n",
       "      <th>1</th>\n",
       "      <td>bhm_lr</td>\n",
       "      <td>bootstrap</td>\n",
       "      <td>expected</td>\n",
       "      <td>SSP1</td>\n",
       "      <td>rcp45</td>\n",
       "      <td>1000</td>\n",
       "      <td>AFG</td>\n",
       "      <td>1.0</td>\n",
       "      <td>1p5</td>\n",
       "      <td>NaN</td>\n",
       "      <td>0.104779</td>\n",
       "      <td>0.522717</td>\n",
       "      <td>1.251716</td>\n",
       "    </tr>\n",
       "    <tr>\n",
       "      <th>2</th>\n",
       "      <td>bhm_lr</td>\n",
       "      <td>bootstrap</td>\n",
       "      <td>expected</td>\n",
       "      <td>SSP1</td>\n",
       "      <td>rcp45</td>\n",
       "      <td>1000</td>\n",
       "      <td>AFG</td>\n",
       "      <td>2.0</td>\n",
       "      <td>0p7</td>\n",
       "      <td>NaN</td>\n",
       "      <td>0.468539</td>\n",
       "      <td>1.534879</td>\n",
       "      <td>2.381060</td>\n",
       "    </tr>\n",
       "    <tr>\n",
       "      <th>3</th>\n",
       "      <td>bhm_lr</td>\n",
       "      <td>bootstrap</td>\n",
       "      <td>expected</td>\n",
       "      <td>SSP1</td>\n",
       "      <td>rcp45</td>\n",
       "      <td>1000</td>\n",
       "      <td>AFG</td>\n",
       "      <td>2.0</td>\n",
       "      <td>1p5</td>\n",
       "      <td>NaN</td>\n",
       "      <td>0.068613</td>\n",
       "      <td>0.325439</td>\n",
       "      <td>0.723126</td>\n",
       "    </tr>\n",
       "    <tr>\n",
       "      <th>4</th>\n",
       "      <td>bhm_lr</td>\n",
       "      <td>bootstrap</td>\n",
       "      <td>expected</td>\n",
       "      <td>SSP1</td>\n",
       "      <td>rcp45</td>\n",
       "      <td>1000</td>\n",
       "      <td>AFG</td>\n",
       "      <td>NaN</td>\n",
       "      <td>NaN</td>\n",
       "      <td>3.0</td>\n",
       "      <td>2.232062</td>\n",
       "      <td>3.828149</td>\n",
       "      <td>4.235822</td>\n",
       "    </tr>\n",
       "  </tbody>\n",
       "</table>\n",
       "</div>"
      ],
      "text/plain": [
       "      run dmgfuncpar   climate   SSP    RCP     N ISO3  prtp  eta   dr  \\\n",
       "0  bhm_lr  bootstrap  expected  SSP1  rcp45  1000  AFG   1.0  0p7  NaN   \n",
       "1  bhm_lr  bootstrap  expected  SSP1  rcp45  1000  AFG   1.0  1p5  NaN   \n",
       "2  bhm_lr  bootstrap  expected  SSP1  rcp45  1000  AFG   2.0  0p7  NaN   \n",
       "3  bhm_lr  bootstrap  expected  SSP1  rcp45  1000  AFG   2.0  1p5  NaN   \n",
       "4  bhm_lr  bootstrap  expected  SSP1  rcp45  1000  AFG   NaN  NaN  3.0   \n",
       "\n",
       "      16.7%       50%     83.3%  \n",
       "0  0.909221  3.001487  4.753647  \n",
       "1  0.104779  0.522717  1.251716  \n",
       "2  0.468539  1.534879  2.381060  \n",
       "3  0.068613  0.325439  0.723126  \n",
       "4  2.232062  3.828149  4.235822  "
      ]
     },
     "execution_count": 2,
     "metadata": {},
     "output_type": "execute_result"
    }
   ],
   "source": [
    "df = pd.read_csv(\"cscc_db_v2.csv\")\n",
    "df.head()"
   ]
  },
  {
   "cell_type": "code",
   "execution_count": 3,
   "metadata": {},
   "outputs": [
    {
     "data": {
      "text/plain": [
       "array(['bhm_lr', 'bhm_richpoor_lr', 'bhm_richpoor_sr', 'bhm_sr',\n",
       "       'djo_richpoor'], dtype=object)"
      ]
     },
     "execution_count": 3,
     "metadata": {},
     "output_type": "execute_result"
    }
   ],
   "source": [
    "df['run'].unique()"
   ]
  },
  {
   "cell_type": "code",
   "execution_count": 4,
   "metadata": {},
   "outputs": [
    {
     "name": "stdout",
     "output_type": "stream",
     "text": [
      "prtp : [ 1.  2. nan]\n",
      "\n",
      "eta : ['0p7' '1p5' nan]\n"
     ]
    }
   ],
   "source": [
    "print(\n",
    "    f\"\"\"prtp : {df['prtp'].unique()}\\n\n",
    "eta : {df['eta'].unique()}\"\"\"\n",
    ")"
   ]
  },
  {
   "cell_type": "code",
   "execution_count": 5,
   "metadata": {},
   "outputs": [
    {
     "data": {
      "text/plain": [
       "array(['bhm_lr', 'bhm_richpoor_lr', 'bhm_richpoor_sr', 'bhm_sr',\n",
       "       'djo_richpoor'], dtype=object)"
      ]
     },
     "execution_count": 5,
     "metadata": {},
     "output_type": "execute_result"
    }
   ],
   "source": [
    "df['run'].unique()"
   ]
  },
  {
   "cell_type": "markdown",
   "metadata": {},
   "source": [
    "## **BHM LR**"
   ]
  },
  {
   "cell_type": "code",
   "execution_count": 6,
   "metadata": {},
   "outputs": [
    {
     "data": {
      "text/html": [
       "<div>\n",
       "<style scoped>\n",
       "    .dataframe tbody tr th:only-of-type {\n",
       "        vertical-align: middle;\n",
       "    }\n",
       "\n",
       "    .dataframe tbody tr th {\n",
       "        vertical-align: top;\n",
       "    }\n",
       "\n",
       "    .dataframe thead th {\n",
       "        text-align: right;\n",
       "    }\n",
       "</style>\n",
       "<table border=\"1\" class=\"dataframe\">\n",
       "  <thead>\n",
       "    <tr style=\"text-align: right;\">\n",
       "      <th></th>\n",
       "      <th>run</th>\n",
       "      <th>dmgfuncpar</th>\n",
       "      <th>climate</th>\n",
       "      <th>SSP</th>\n",
       "      <th>RCP</th>\n",
       "      <th>N</th>\n",
       "      <th>ISO3</th>\n",
       "      <th>prtp</th>\n",
       "      <th>eta</th>\n",
       "      <th>dr</th>\n",
       "      <th>16.7%</th>\n",
       "      <th>50%</th>\n",
       "      <th>83.3%</th>\n",
       "    </tr>\n",
       "  </thead>\n",
       "  <tbody>\n",
       "  </tbody>\n",
       "</table>\n",
       "</div>"
      ],
      "text/plain": [
       "Empty DataFrame\n",
       "Columns: [run, dmgfuncpar, climate, SSP, RCP, N, ISO3, prtp, eta, dr, 16.7%, 50%, 83.3%]\n",
       "Index: []"
      ]
     },
     "execution_count": 6,
     "metadata": {},
     "output_type": "execute_result"
    }
   ],
   "source": [
    "df1 = df[(df['dmgfuncpar'] == 'bootstrap') & (df['climate'] == 'uncertain') & \n",
    "        (df['prtp'] == np.nan) & (df['eta'] == np.nan) & (df['dr'] == 3.) & (df['run'] == 'bhm_lr')]\n",
    "df1.head()"
   ]
  },
  {
   "cell_type": "code",
   "execution_count": 7,
   "metadata": {},
   "outputs": [
    {
     "data": {
      "text/plain": [
       "array([nan,  3.,  5.])"
      ]
     },
     "execution_count": 7,
     "metadata": {},
     "output_type": "execute_result"
    }
   ],
   "source": [
    "df['dr'].unique()"
   ]
  },
  {
   "cell_type": "code",
   "execution_count": 8,
   "metadata": {},
   "outputs": [
    {
     "data": {
      "text/html": [
       "<div>\n",
       "<style scoped>\n",
       "    .dataframe tbody tr th:only-of-type {\n",
       "        vertical-align: middle;\n",
       "    }\n",
       "\n",
       "    .dataframe tbody tr th {\n",
       "        vertical-align: top;\n",
       "    }\n",
       "\n",
       "    .dataframe thead th {\n",
       "        text-align: right;\n",
       "    }\n",
       "</style>\n",
       "<table border=\"1\" class=\"dataframe\">\n",
       "  <thead>\n",
       "    <tr style=\"text-align: right;\">\n",
       "      <th></th>\n",
       "      <th>country</th>\n",
       "      <th>16.7%</th>\n",
       "      <th>50%</th>\n",
       "      <th>83.3%</th>\n",
       "    </tr>\n",
       "  </thead>\n",
       "  <tbody>\n",
       "  </tbody>\n",
       "</table>\n",
       "</div>"
      ],
      "text/plain": [
       "Empty DataFrame\n",
       "Columns: [country, 16.7%, 50%, 83.3%]\n",
       "Index: []"
      ]
     },
     "execution_count": 8,
     "metadata": {},
     "output_type": "execute_result"
    }
   ],
   "source": [
    "group1 = df1.groupby('ISO3')[['16.7%', '50%', '83.3%']].median()\n",
    "group1['country'] = group1.index\n",
    "group1 = group1[['country', '16.7%', '50%', '83.3%']]\n",
    "group1 = group1.reset_index(drop=True)\n",
    "group1.head()"
   ]
  },
  {
   "cell_type": "code",
   "execution_count": 9,
   "metadata": {},
   "outputs": [
    {
     "data": {
      "text/plain": [
       "0.0"
      ]
     },
     "execution_count": 9,
     "metadata": {},
     "output_type": "execute_result"
    }
   ],
   "source": [
    "csc = group1[group1['country'] != 'WLD']\n",
    "gscc = csc['50%'].sum()\n",
    "gscc"
   ]
  },
  {
   "cell_type": "code",
   "execution_count": 10,
   "metadata": {},
   "outputs": [
    {
     "name": "stdout",
     "output_type": "stream",
     "text": [
      "Empty DataFrame\n",
      "Columns: [country, 16.7%, 50%, 83.3%]\n",
      "Index: []\n"
     ]
    }
   ],
   "source": [
    "print(csc.to_string())"
   ]
  },
  {
   "cell_type": "code",
   "execution_count": 11,
   "metadata": {},
   "outputs": [
    {
     "data": {
      "image/png": "[encoded data removed]",
      "text/plain": [
       "<Figure size 640x480 with 1 Axes>"
      ]
     },
     "metadata": {},
     "output_type": "display_data"
    }
   ],
   "source": [
    "sns.set_theme(style='darkgrid')\n",
    "plt.plot(csc.index, csc['16.7%'], color='red', label='CI left')\n",
    "plt.plot(csc.index, csc['50%'], color='black', label='CSCC')\n",
    "plt.plot(csc.index, csc['83.3%'], color='green', label='CI right')\n",
    "plt.xlabel('Pays')\n",
    "plt.ylabel('Différence')\n",
    "plt.legend()\n",
    "plt.xticks(rotation=60)\n",
    "plt.tight_layout()\n",
    "plt.show()"
   ]
  },
  {
   "cell_type": "code",
   "execution_count": 12,
   "metadata": {},
   "outputs": [
    {
     "data": {
      "text/plain": [
       "0.0"
      ]
     },
     "execution_count": 12,
     "metadata": {},
     "output_type": "execute_result"
    }
   ],
   "source": [
    "group2 = df1.groupby('ISO3')[['16.7%', '50%', '83.3%']].mean()\n",
    "csc = group2[group2.index != 'WLD']\n",
    "gscc = csc['50%'].sum()\n",
    "gscc"
   ]
  },
  {
   "cell_type": "markdown",
   "metadata": {},
   "source": [
    "## **BHM richpoor LR**"
   ]
  },
  {
   "cell_type": "code",
   "execution_count": 13,
   "metadata": {},
   "outputs": [
    {
     "data": {
      "text/html": [
       "<div>\n",
       "<style scoped>\n",
       "    .dataframe tbody tr th:only-of-type {\n",
       "        vertical-align: middle;\n",
       "    }\n",
       "\n",
       "    .dataframe tbody tr th {\n",
       "        vertical-align: top;\n",
       "    }\n",
       "\n",
       "    .dataframe thead th {\n",
       "        text-align: right;\n",
       "    }\n",
       "</style>\n",
       "<table border=\"1\" class=\"dataframe\">\n",
       "  <thead>\n",
       "    <tr style=\"text-align: right;\">\n",
       "      <th></th>\n",
       "      <th>run</th>\n",
       "      <th>dmgfuncpar</th>\n",
       "      <th>climate</th>\n",
       "      <th>SSP</th>\n",
       "      <th>RCP</th>\n",
       "      <th>N</th>\n",
       "      <th>ISO3</th>\n",
       "      <th>prtp</th>\n",
       "      <th>eta</th>\n",
       "      <th>dr</th>\n",
       "      <th>16.7%</th>\n",
       "      <th>50%</th>\n",
       "      <th>83.3%</th>\n",
       "    </tr>\n",
       "  </thead>\n",
       "  <tbody>\n",
       "    <tr>\n",
       "      <th>72232</th>\n",
       "      <td>bhm_richpoor_lr</td>\n",
       "      <td>bootstrap</td>\n",
       "      <td>uncertain</td>\n",
       "      <td>SSP3</td>\n",
       "      <td>rcp60</td>\n",
       "      <td>209790</td>\n",
       "      <td>SLV</td>\n",
       "      <td>NaN</td>\n",
       "      <td>NaN</td>\n",
       "      <td>3.0</td>\n",
       "      <td>-0.668452</td>\n",
       "      <td>0.230887</td>\n",
       "      <td>0.421415</td>\n",
       "    </tr>\n",
       "    <tr>\n",
       "      <th>67672</th>\n",
       "      <td>bhm_richpoor_lr</td>\n",
       "      <td>bootstrap</td>\n",
       "      <td>uncertain</td>\n",
       "      <td>SSP2</td>\n",
       "      <td>rcp45</td>\n",
       "      <td>314685</td>\n",
       "      <td>ESP</td>\n",
       "      <td>NaN</td>\n",
       "      <td>NaN</td>\n",
       "      <td>3.0</td>\n",
       "      <td>-5.548636</td>\n",
       "      <td>4.519685</td>\n",
       "      <td>8.314250</td>\n",
       "    </tr>\n",
       "    <tr>\n",
       "      <th>74080</th>\n",
       "      <td>bhm_richpoor_lr</td>\n",
       "      <td>bootstrap</td>\n",
       "      <td>uncertain</td>\n",
       "      <td>SSP4</td>\n",
       "      <td>rcp45</td>\n",
       "      <td>314685</td>\n",
       "      <td>MKD</td>\n",
       "      <td>NaN</td>\n",
       "      <td>NaN</td>\n",
       "      <td>3.0</td>\n",
       "      <td>-0.154287</td>\n",
       "      <td>0.128969</td>\n",
       "      <td>0.230795</td>\n",
       "    </tr>\n",
       "    <tr>\n",
       "      <th>68164</th>\n",
       "      <td>bhm_richpoor_lr</td>\n",
       "      <td>bootstrap</td>\n",
       "      <td>uncertain</td>\n",
       "      <td>SSP2</td>\n",
       "      <td>rcp45</td>\n",
       "      <td>314685</td>\n",
       "      <td>SOM</td>\n",
       "      <td>NaN</td>\n",
       "      <td>NaN</td>\n",
       "      <td>3.0</td>\n",
       "      <td>-0.028812</td>\n",
       "      <td>0.053759</td>\n",
       "      <td>0.075952</td>\n",
       "    </tr>\n",
       "    <tr>\n",
       "      <th>72424</th>\n",
       "      <td>bhm_richpoor_lr</td>\n",
       "      <td>bootstrap</td>\n",
       "      <td>uncertain</td>\n",
       "      <td>SSP3</td>\n",
       "      <td>rcp85</td>\n",
       "      <td>253470</td>\n",
       "      <td>ISL</td>\n",
       "      <td>NaN</td>\n",
       "      <td>NaN</td>\n",
       "      <td>3.0</td>\n",
       "      <td>-0.143048</td>\n",
       "      <td>0.029432</td>\n",
       "      <td>0.062400</td>\n",
       "    </tr>\n",
       "    <tr>\n",
       "      <th>70438</th>\n",
       "      <td>bhm_richpoor_lr</td>\n",
       "      <td>bootstrap</td>\n",
       "      <td>uncertain</td>\n",
       "      <td>SSP3</td>\n",
       "      <td>rcp45</td>\n",
       "      <td>299700</td>\n",
       "      <td>MUS</td>\n",
       "      <td>NaN</td>\n",
       "      <td>NaN</td>\n",
       "      <td>3.0</td>\n",
       "      <td>-0.200409</td>\n",
       "      <td>0.075286</td>\n",
       "      <td>0.165926</td>\n",
       "    </tr>\n",
       "    <tr>\n",
       "      <th>78292</th>\n",
       "      <td>bhm_richpoor_lr</td>\n",
       "      <td>bootstrap</td>\n",
       "      <td>uncertain</td>\n",
       "      <td>SSP5</td>\n",
       "      <td>rcp60</td>\n",
       "      <td>209790</td>\n",
       "      <td>PRY</td>\n",
       "      <td>NaN</td>\n",
       "      <td>NaN</td>\n",
       "      <td>3.0</td>\n",
       "      <td>-2.755632</td>\n",
       "      <td>0.947170</td>\n",
       "      <td>1.654060</td>\n",
       "    </tr>\n",
       "    <tr>\n",
       "      <th>64588</th>\n",
       "      <td>bhm_richpoor_lr</td>\n",
       "      <td>bootstrap</td>\n",
       "      <td>uncertain</td>\n",
       "      <td>SSP1</td>\n",
       "      <td>rcp45</td>\n",
       "      <td>314685</td>\n",
       "      <td>DZA</td>\n",
       "      <td>NaN</td>\n",
       "      <td>NaN</td>\n",
       "      <td>3.0</td>\n",
       "      <td>-4.550889</td>\n",
       "      <td>2.687732</td>\n",
       "      <td>4.738643</td>\n",
       "    </tr>\n",
       "    <tr>\n",
       "      <th>65656</th>\n",
       "      <td>bhm_richpoor_lr</td>\n",
       "      <td>bootstrap</td>\n",
       "      <td>uncertain</td>\n",
       "      <td>SSP1</td>\n",
       "      <td>rcp60</td>\n",
       "      <td>209790</td>\n",
       "      <td>GBR</td>\n",
       "      <td>NaN</td>\n",
       "      <td>NaN</td>\n",
       "      <td>3.0</td>\n",
       "      <td>-8.934102</td>\n",
       "      <td>8.283379</td>\n",
       "      <td>15.964519</td>\n",
       "    </tr>\n",
       "    <tr>\n",
       "      <th>69486</th>\n",
       "      <td>bhm_richpoor_lr</td>\n",
       "      <td>bootstrap</td>\n",
       "      <td>uncertain</td>\n",
       "      <td>SSP2</td>\n",
       "      <td>rcp85</td>\n",
       "      <td>343275</td>\n",
       "      <td>AGO</td>\n",
       "      <td>NaN</td>\n",
       "      <td>NaN</td>\n",
       "      <td>3.0</td>\n",
       "      <td>-9.773109</td>\n",
       "      <td>1.348260</td>\n",
       "      <td>1.851069</td>\n",
       "    </tr>\n",
       "    <tr>\n",
       "      <th>76474</th>\n",
       "      <td>bhm_richpoor_lr</td>\n",
       "      <td>bootstrap</td>\n",
       "      <td>uncertain</td>\n",
       "      <td>SSP4</td>\n",
       "      <td>rcp85</td>\n",
       "      <td>343275</td>\n",
       "      <td>WSM</td>\n",
       "      <td>NaN</td>\n",
       "      <td>NaN</td>\n",
       "      <td>3.0</td>\n",
       "      <td>-0.010372</td>\n",
       "      <td>0.002286</td>\n",
       "      <td>0.004337</td>\n",
       "    </tr>\n",
       "    <tr>\n",
       "      <th>67510</th>\n",
       "      <td>bhm_richpoor_lr</td>\n",
       "      <td>bootstrap</td>\n",
       "      <td>uncertain</td>\n",
       "      <td>SSP2</td>\n",
       "      <td>rcp45</td>\n",
       "      <td>314685</td>\n",
       "      <td>BLR</td>\n",
       "      <td>NaN</td>\n",
       "      <td>NaN</td>\n",
       "      <td>3.0</td>\n",
       "      <td>-1.317488</td>\n",
       "      <td>0.693900</td>\n",
       "      <td>1.287612</td>\n",
       "    </tr>\n",
       "    <tr>\n",
       "      <th>70558</th>\n",
       "      <td>bhm_richpoor_lr</td>\n",
       "      <td>bootstrap</td>\n",
       "      <td>uncertain</td>\n",
       "      <td>SSP3</td>\n",
       "      <td>rcp45</td>\n",
       "      <td>314685</td>\n",
       "      <td>BHS</td>\n",
       "      <td>NaN</td>\n",
       "      <td>NaN</td>\n",
       "      <td>3.0</td>\n",
       "      <td>-0.095990</td>\n",
       "      <td>0.030763</td>\n",
       "      <td>0.063505</td>\n",
       "    </tr>\n",
       "    <tr>\n",
       "      <th>74836</th>\n",
       "      <td>bhm_richpoor_lr</td>\n",
       "      <td>bootstrap</td>\n",
       "      <td>uncertain</td>\n",
       "      <td>SSP4</td>\n",
       "      <td>rcp60</td>\n",
       "      <td>209790</td>\n",
       "      <td>GBR</td>\n",
       "      <td>NaN</td>\n",
       "      <td>NaN</td>\n",
       "      <td>3.0</td>\n",
       "      <td>-7.542227</td>\n",
       "      <td>7.081068</td>\n",
       "      <td>13.916641</td>\n",
       "    </tr>\n",
       "    <tr>\n",
       "      <th>78364</th>\n",
       "      <td>bhm_richpoor_lr</td>\n",
       "      <td>bootstrap</td>\n",
       "      <td>uncertain</td>\n",
       "      <td>SSP5</td>\n",
       "      <td>rcp60</td>\n",
       "      <td>209790</td>\n",
       "      <td>SRB</td>\n",
       "      <td>NaN</td>\n",
       "      <td>NaN</td>\n",
       "      <td>3.0</td>\n",
       "      <td>-0.661500</td>\n",
       "      <td>0.523721</td>\n",
       "      <td>0.902861</td>\n",
       "    </tr>\n",
       "    <tr>\n",
       "      <th>66046</th>\n",
       "      <td>bhm_richpoor_lr</td>\n",
       "      <td>bootstrap</td>\n",
       "      <td>uncertain</td>\n",
       "      <td>SSP1</td>\n",
       "      <td>rcp60</td>\n",
       "      <td>209790</td>\n",
       "      <td>PRT</td>\n",
       "      <td>NaN</td>\n",
       "      <td>NaN</td>\n",
       "      <td>3.0</td>\n",
       "      <td>-0.936482</td>\n",
       "      <td>0.816711</td>\n",
       "      <td>1.653496</td>\n",
       "    </tr>\n",
       "    <tr>\n",
       "      <th>66516</th>\n",
       "      <td>bhm_richpoor_lr</td>\n",
       "      <td>bootstrap</td>\n",
       "      <td>uncertain</td>\n",
       "      <td>SSP1</td>\n",
       "      <td>rcp85</td>\n",
       "      <td>342930</td>\n",
       "      <td>BLZ</td>\n",
       "      <td>NaN</td>\n",
       "      <td>NaN</td>\n",
       "      <td>3.0</td>\n",
       "      <td>-0.155893</td>\n",
       "      <td>0.020065</td>\n",
       "      <td>0.028943</td>\n",
       "    </tr>\n",
       "    <tr>\n",
       "      <th>69460</th>\n",
       "      <td>bhm_richpoor_lr</td>\n",
       "      <td>bootstrap</td>\n",
       "      <td>uncertain</td>\n",
       "      <td>SSP2</td>\n",
       "      <td>rcp85</td>\n",
       "      <td>328350</td>\n",
       "      <td>URY</td>\n",
       "      <td>NaN</td>\n",
       "      <td>NaN</td>\n",
       "      <td>3.0</td>\n",
       "      <td>-0.320994</td>\n",
       "      <td>0.197520</td>\n",
       "      <td>0.370516</td>\n",
       "    </tr>\n",
       "    <tr>\n",
       "      <th>72148</th>\n",
       "      <td>bhm_richpoor_lr</td>\n",
       "      <td>bootstrap</td>\n",
       "      <td>uncertain</td>\n",
       "      <td>SSP3</td>\n",
       "      <td>rcp60</td>\n",
       "      <td>209790</td>\n",
       "      <td>PHL</td>\n",
       "      <td>NaN</td>\n",
       "      <td>NaN</td>\n",
       "      <td>3.0</td>\n",
       "      <td>-15.333630</td>\n",
       "      <td>4.102417</td>\n",
       "      <td>7.800489</td>\n",
       "    </tr>\n",
       "    <tr>\n",
       "      <th>77692</th>\n",
       "      <td>bhm_richpoor_lr</td>\n",
       "      <td>bootstrap</td>\n",
       "      <td>uncertain</td>\n",
       "      <td>SSP5</td>\n",
       "      <td>rcp60</td>\n",
       "      <td>209790</td>\n",
       "      <td>BIH</td>\n",
       "      <td>NaN</td>\n",
       "      <td>NaN</td>\n",
       "      <td>3.0</td>\n",
       "      <td>-0.245423</td>\n",
       "      <td>0.210836</td>\n",
       "      <td>0.378712</td>\n",
       "    </tr>\n",
       "    <tr>\n",
       "      <th>75912</th>\n",
       "      <td>bhm_richpoor_lr</td>\n",
       "      <td>bootstrap</td>\n",
       "      <td>uncertain</td>\n",
       "      <td>SSP4</td>\n",
       "      <td>rcp85</td>\n",
       "      <td>343275</td>\n",
       "      <td>GNB</td>\n",
       "      <td>NaN</td>\n",
       "      <td>NaN</td>\n",
       "      <td>3.0</td>\n",
       "      <td>0.006557</td>\n",
       "      <td>0.024056</td>\n",
       "      <td>0.030692</td>\n",
       "    </tr>\n",
       "    <tr>\n",
       "      <th>72630</th>\n",
       "      <td>bhm_richpoor_lr</td>\n",
       "      <td>bootstrap</td>\n",
       "      <td>uncertain</td>\n",
       "      <td>SSP3</td>\n",
       "      <td>rcp85</td>\n",
       "      <td>342930</td>\n",
       "      <td>BLR</td>\n",
       "      <td>NaN</td>\n",
       "      <td>NaN</td>\n",
       "      <td>3.0</td>\n",
       "      <td>-1.078941</td>\n",
       "      <td>0.479074</td>\n",
       "      <td>0.820329</td>\n",
       "    </tr>\n",
       "    <tr>\n",
       "      <th>67546</th>\n",
       "      <td>bhm_richpoor_lr</td>\n",
       "      <td>bootstrap</td>\n",
       "      <td>uncertain</td>\n",
       "      <td>SSP2</td>\n",
       "      <td>rcp45</td>\n",
       "      <td>314685</td>\n",
       "      <td>BWA</td>\n",
       "      <td>NaN</td>\n",
       "      <td>NaN</td>\n",
       "      <td>3.0</td>\n",
       "      <td>-0.866480</td>\n",
       "      <td>0.259737</td>\n",
       "      <td>0.439528</td>\n",
       "    </tr>\n",
       "    <tr>\n",
       "      <th>64882</th>\n",
       "      <td>bhm_richpoor_lr</td>\n",
       "      <td>bootstrap</td>\n",
       "      <td>uncertain</td>\n",
       "      <td>SSP1</td>\n",
       "      <td>rcp45</td>\n",
       "      <td>314685</td>\n",
       "      <td>MDA</td>\n",
       "      <td>NaN</td>\n",
       "      <td>NaN</td>\n",
       "      <td>3.0</td>\n",
       "      <td>-0.121900</td>\n",
       "      <td>0.097945</td>\n",
       "      <td>0.180646</td>\n",
       "    </tr>\n",
       "    <tr>\n",
       "      <th>69448</th>\n",
       "      <td>bhm_richpoor_lr</td>\n",
       "      <td>bootstrap</td>\n",
       "      <td>uncertain</td>\n",
       "      <td>SSP2</td>\n",
       "      <td>rcp85</td>\n",
       "      <td>328350</td>\n",
       "      <td>PRT</td>\n",
       "      <td>NaN</td>\n",
       "      <td>NaN</td>\n",
       "      <td>3.0</td>\n",
       "      <td>-1.106417</td>\n",
       "      <td>0.769823</td>\n",
       "      <td>1.314946</td>\n",
       "    </tr>\n",
       "    <tr>\n",
       "      <th>69588</th>\n",
       "      <td>bhm_richpoor_lr</td>\n",
       "      <td>bootstrap</td>\n",
       "      <td>uncertain</td>\n",
       "      <td>SSP2</td>\n",
       "      <td>rcp85</td>\n",
       "      <td>343275</td>\n",
       "      <td>BRA</td>\n",
       "      <td>NaN</td>\n",
       "      <td>NaN</td>\n",
       "      <td>3.0</td>\n",
       "      <td>-47.954872</td>\n",
       "      <td>11.840394</td>\n",
       "      <td>18.745419</td>\n",
       "    </tr>\n",
       "    <tr>\n",
       "      <th>78712</th>\n",
       "      <td>bhm_richpoor_lr</td>\n",
       "      <td>bootstrap</td>\n",
       "      <td>uncertain</td>\n",
       "      <td>SSP5</td>\n",
       "      <td>rcp85</td>\n",
       "      <td>343275</td>\n",
       "      <td>BFA</td>\n",
       "      <td>NaN</td>\n",
       "      <td>NaN</td>\n",
       "      <td>3.0</td>\n",
       "      <td>-32.440162</td>\n",
       "      <td>1.617812</td>\n",
       "      <td>2.829937</td>\n",
       "    </tr>\n",
       "    <tr>\n",
       "      <th>79402</th>\n",
       "      <td>bhm_richpoor_lr</td>\n",
       "      <td>bootstrap</td>\n",
       "      <td>uncertain</td>\n",
       "      <td>SSP5</td>\n",
       "      <td>rcp85</td>\n",
       "      <td>343275</td>\n",
       "      <td>SUR</td>\n",
       "      <td>NaN</td>\n",
       "      <td>NaN</td>\n",
       "      <td>3.0</td>\n",
       "      <td>-0.416546</td>\n",
       "      <td>0.050998</td>\n",
       "      <td>0.079209</td>\n",
       "    </tr>\n",
       "    <tr>\n",
       "      <th>74986</th>\n",
       "      <td>bhm_richpoor_lr</td>\n",
       "      <td>bootstrap</td>\n",
       "      <td>uncertain</td>\n",
       "      <td>SSP4</td>\n",
       "      <td>rcp60</td>\n",
       "      <td>209790</td>\n",
       "      <td>KGZ</td>\n",
       "      <td>NaN</td>\n",
       "      <td>NaN</td>\n",
       "      <td>3.0</td>\n",
       "      <td>-0.199735</td>\n",
       "      <td>0.108870</td>\n",
       "      <td>0.186647</td>\n",
       "    </tr>\n",
       "    <tr>\n",
       "      <th>75226</th>\n",
       "      <td>bhm_richpoor_lr</td>\n",
       "      <td>bootstrap</td>\n",
       "      <td>uncertain</td>\n",
       "      <td>SSP4</td>\n",
       "      <td>rcp60</td>\n",
       "      <td>209790</td>\n",
       "      <td>PRT</td>\n",
       "      <td>NaN</td>\n",
       "      <td>NaN</td>\n",
       "      <td>3.0</td>\n",
       "      <td>-0.830440</td>\n",
       "      <td>0.721618</td>\n",
       "      <td>1.469663</td>\n",
       "    </tr>\n",
       "  </tbody>\n",
       "</table>\n",
       "</div>"
      ],
      "text/plain": [
       "                   run dmgfuncpar    climate   SSP    RCP       N ISO3  prtp  \\\n",
       "72232  bhm_richpoor_lr  bootstrap  uncertain  SSP3  rcp60  209790  SLV   NaN   \n",
       "67672  bhm_richpoor_lr  bootstrap  uncertain  SSP2  rcp45  314685  ESP   NaN   \n",
       "74080  bhm_richpoor_lr  bootstrap  uncertain  SSP4  rcp45  314685  MKD   NaN   \n",
       "68164  bhm_richpoor_lr  bootstrap  uncertain  SSP2  rcp45  314685  SOM   NaN   \n",
       "72424  bhm_richpoor_lr  bootstrap  uncertain  SSP3  rcp85  253470  ISL   NaN   \n",
       "70438  bhm_richpoor_lr  bootstrap  uncertain  SSP3  rcp45  299700  MUS   NaN   \n",
       "78292  bhm_richpoor_lr  bootstrap  uncertain  SSP5  rcp60  209790  PRY   NaN   \n",
       "64588  bhm_richpoor_lr  bootstrap  uncertain  SSP1  rcp45  314685  DZA   NaN   \n",
       "65656  bhm_richpoor_lr  bootstrap  uncertain  SSP1  rcp60  209790  GBR   NaN   \n",
       "69486  bhm_richpoor_lr  bootstrap  uncertain  SSP2  rcp85  343275  AGO   NaN   \n",
       "76474  bhm_richpoor_lr  bootstrap  uncertain  SSP4  rcp85  343275  WSM   NaN   \n",
       "67510  bhm_richpoor_lr  bootstrap  uncertain  SSP2  rcp45  314685  BLR   NaN   \n",
       "70558  bhm_richpoor_lr  bootstrap  uncertain  SSP3  rcp45  314685  BHS   NaN   \n",
       "74836  bhm_richpoor_lr  bootstrap  uncertain  SSP4  rcp60  209790  GBR   NaN   \n",
       "78364  bhm_richpoor_lr  bootstrap  uncertain  SSP5  rcp60  209790  SRB   NaN   \n",
       "66046  bhm_richpoor_lr  bootstrap  uncertain  SSP1  rcp60  209790  PRT   NaN   \n",
       "66516  bhm_richpoor_lr  bootstrap  uncertain  SSP1  rcp85  342930  BLZ   NaN   \n",
       "69460  bhm_richpoor_lr  bootstrap  uncertain  SSP2  rcp85  328350  URY   NaN   \n",
       "72148  bhm_richpoor_lr  bootstrap  uncertain  SSP3  rcp60  209790  PHL   NaN   \n",
       "77692  bhm_richpoor_lr  bootstrap  uncertain  SSP5  rcp60  209790  BIH   NaN   \n",
       "75912  bhm_richpoor_lr  bootstrap  uncertain  SSP4  rcp85  343275  GNB   NaN   \n",
       "72630  bhm_richpoor_lr  bootstrap  uncertain  SSP3  rcp85  342930  BLR   NaN   \n",
       "67546  bhm_richpoor_lr  bootstrap  uncertain  SSP2  rcp45  314685  BWA   NaN   \n",
       "64882  bhm_richpoor_lr  bootstrap  uncertain  SSP1  rcp45  314685  MDA   NaN   \n",
       "69448  bhm_richpoor_lr  bootstrap  uncertain  SSP2  rcp85  328350  PRT   NaN   \n",
       "69588  bhm_richpoor_lr  bootstrap  uncertain  SSP2  rcp85  343275  BRA   NaN   \n",
       "78712  bhm_richpoor_lr  bootstrap  uncertain  SSP5  rcp85  343275  BFA   NaN   \n",
       "79402  bhm_richpoor_lr  bootstrap  uncertain  SSP5  rcp85  343275  SUR   NaN   \n",
       "74986  bhm_richpoor_lr  bootstrap  uncertain  SSP4  rcp60  209790  KGZ   NaN   \n",
       "75226  bhm_richpoor_lr  bootstrap  uncertain  SSP4  rcp60  209790  PRT   NaN   \n",
       "\n",
       "       eta   dr      16.7%        50%      83.3%  \n",
       "72232  NaN  3.0  -0.668452   0.230887   0.421415  \n",
       "67672  NaN  3.0  -5.548636   4.519685   8.314250  \n",
       "74080  NaN  3.0  -0.154287   0.128969   0.230795  \n",
       "68164  NaN  3.0  -0.028812   0.053759   0.075952  \n",
       "72424  NaN  3.0  -0.143048   0.029432   0.062400  \n",
       "70438  NaN  3.0  -0.200409   0.075286   0.165926  \n",
       "78292  NaN  3.0  -2.755632   0.947170   1.654060  \n",
       "64588  NaN  3.0  -4.550889   2.687732   4.738643  \n",
       "65656  NaN  3.0  -8.934102   8.283379  15.964519  \n",
       "69486  NaN  3.0  -9.773109   1.348260   1.851069  \n",
       "76474  NaN  3.0  -0.010372   0.002286   0.004337  \n",
       "67510  NaN  3.0  -1.317488   0.693900   1.287612  \n",
       "70558  NaN  3.0  -0.095990   0.030763   0.063505  \n",
       "74836  NaN  3.0  -7.542227   7.081068  13.916641  \n",
       "78364  NaN  3.0  -0.661500   0.523721   0.902861  \n",
       "66046  NaN  3.0  -0.936482   0.816711   1.653496  \n",
       "66516  NaN  3.0  -0.155893   0.020065   0.028943  \n",
       "69460  NaN  3.0  -0.320994   0.197520   0.370516  \n",
       "72148  NaN  3.0 -15.333630   4.102417   7.800489  \n",
       "77692  NaN  3.0  -0.245423   0.210836   0.378712  \n",
       "75912  NaN  3.0   0.006557   0.024056   0.030692  \n",
       "72630  NaN  3.0  -1.078941   0.479074   0.820329  \n",
       "67546  NaN  3.0  -0.866480   0.259737   0.439528  \n",
       "64882  NaN  3.0  -0.121900   0.097945   0.180646  \n",
       "69448  NaN  3.0  -1.106417   0.769823   1.314946  \n",
       "69588  NaN  3.0 -47.954872  11.840394  18.745419  \n",
       "78712  NaN  3.0 -32.440162   1.617812   2.829937  \n",
       "79402  NaN  3.0  -0.416546   0.050998   0.079209  \n",
       "74986  NaN  3.0  -0.199735   0.108870   0.186647  \n",
       "75226  NaN  3.0  -0.830440   0.721618   1.469663  "
      ]
     },
     "execution_count": 13,
     "metadata": {},
     "output_type": "execute_result"
    }
   ],
   "source": [
    "df2 = df[(df['dmgfuncpar'] == 'bootstrap') & \n",
    "         (df['climate'] == 'uncertain') & \n",
    "         (df['prtp'].isna()) & \n",
    "         (df['eta'].isna()) & \n",
    "         (df['dr'] == 3.) & \n",
    "         (df['run'].isin(['bhm_richpoor_lr']))]\n",
    "df2.sample(n=30)"
   ]
  },
  {
   "cell_type": "code",
   "execution_count": 14,
   "metadata": {},
   "outputs": [
    {
     "name": "stdout",
     "output_type": "stream",
     "text": [
      "    ISO3                                                50%\n",
      "86   LAO  [0.7682388997333547, 0.1988687774001813, 0.405...\n",
      "134  SLB  [0.0602629219186492, 0.0125283968320429, 0.031...\n",
      "13   BGD  [10.945971350146015, 2.0912494063331177, 5.851...\n",
      "68   HUN  [2.997165184157335, 1.8691704873375496, 1.4881...\n",
      "28   CHN  [280.86199406489453, 123.68990524753012, 152.0...\n"
     ]
    },
    {
     "data": {
      "image/png": "[encoded data removed]",
      "text/plain": [
       "<Figure size 640x480 with 1 Axes>"
      ]
     },
     "metadata": {},
     "output_type": "display_data"
    },
    {
     "data": {
      "image/png": "[encoded data removed]",
      "text/plain": [
       "<Figure size 640x480 with 1 Axes>"
      ]
     },
     "metadata": {},
     "output_type": "display_data"
    },
    {
     "data": {
      "image/png": "[encoded data removed]",
      "text/plain": [
       "<Figure size 640x480 with 1 Axes>"
      ]
     },
     "metadata": {},
     "output_type": "display_data"
    },
    {
     "data": {
      "image/png": "[encoded data removed]",
      "text/plain": [
       "<Figure size 640x480 with 1 Axes>"
      ]
     },
     "metadata": {},
     "output_type": "display_data"
    },
    {
     "data": {
      "image/png": "[encoded data removed]",
      "text/plain": [
       "<Figure size 640x480 with 1 Axes>"
      ]
     },
     "metadata": {},
     "output_type": "display_data"
    }
   ],
   "source": [
    "country_values = df.groupby('ISO3')['50%'].apply(list).reset_index()\n",
    "country_values.head()\n",
    "\n",
    "random_countries = country_values.sample(n=5)\n",
    "print(random_countries)\n",
    "\n",
    "for index, row in random_countries.iterrows():\n",
    "    plt.figure()\n",
    "    sns.histplot(row['50%'], label='Densité')\n",
    "    plt.axvline(np.mean(row['50%']), color='red', linestyle='dashed', linewidth=1, label='Mean')\n",
    "    plt.axvline(np.median(row['50%']), color='yellow', linestyle='-', linewidth=1, label='Median')\n",
    "    skewness = pd.Series(row['50%']).skew()\n",
    "    plt.xlabel('Valeurs')\n",
    "    plt.ylabel('Fréquence')\n",
    "    plt.legend()\n",
    "    plt.title(f'Histogramme {row[\"ISO3\"]} (Skewness: {skewness:.2f})')\n",
    "    plt.show()"
   ]
  },
  {
   "cell_type": "code",
   "execution_count": 15,
   "metadata": {},
   "outputs": [
    {
     "data": {
      "text/plain": [
       "573.8009845669417"
      ]
     },
     "execution_count": 15,
     "metadata": {},
     "output_type": "execute_result"
    }
   ],
   "source": [
    "group = df2.groupby('ISO3')[['16.7%', '50%', '83.3%']].median()\n",
    "group['country'] = group.index\n",
    "group = group[['country', '16.7%', '50%', '83.3%']]\n",
    "group = group.reset_index(drop=True)\n",
    "group.rename(columns={'50%':'median'}, inplace=True)\n",
    "csc = group[group['country'] != 'WLD']\n",
    "gscc = csc['median'].sum()\n",
    "gscc"
   ]
  },
  {
   "cell_type": "code",
   "execution_count": 16,
   "metadata": {},
   "outputs": [
    {
     "data": {
      "text/html": [
       "<div>\n",
       "<style scoped>\n",
       "    .dataframe tbody tr th:only-of-type {\n",
       "        vertical-align: middle;\n",
       "    }\n",
       "\n",
       "    .dataframe tbody tr th {\n",
       "        vertical-align: top;\n",
       "    }\n",
       "\n",
       "    .dataframe thead th {\n",
       "        text-align: right;\n",
       "    }\n",
       "</style>\n",
       "<table border=\"1\" class=\"dataframe\">\n",
       "  <thead>\n",
       "    <tr style=\"text-align: right;\">\n",
       "      <th></th>\n",
       "      <th>country</th>\n",
       "      <th>16.7%</th>\n",
       "      <th>median</th>\n",
       "      <th>83.3%</th>\n",
       "    </tr>\n",
       "  </thead>\n",
       "  <tbody>\n",
       "    <tr>\n",
       "      <th>0</th>\n",
       "      <td>AFG</td>\n",
       "      <td>0.209844</td>\n",
       "      <td>1.399681</td>\n",
       "      <td>3.316064</td>\n",
       "    </tr>\n",
       "    <tr>\n",
       "      <th>1</th>\n",
       "      <td>AGO</td>\n",
       "      <td>-7.942651</td>\n",
       "      <td>1.780926</td>\n",
       "      <td>2.716581</td>\n",
       "    </tr>\n",
       "    <tr>\n",
       "      <th>2</th>\n",
       "      <td>ALB</td>\n",
       "      <td>-0.154960</td>\n",
       "      <td>0.119903</td>\n",
       "      <td>0.203842</td>\n",
       "    </tr>\n",
       "    <tr>\n",
       "      <th>3</th>\n",
       "      <td>ARE</td>\n",
       "      <td>-17.594904</td>\n",
       "      <td>2.955779</td>\n",
       "      <td>5.284282</td>\n",
       "    </tr>\n",
       "    <tr>\n",
       "      <th>4</th>\n",
       "      <td>ARG</td>\n",
       "      <td>-4.354172</td>\n",
       "      <td>3.325263</td>\n",
       "      <td>6.256226</td>\n",
       "    </tr>\n",
       "  </tbody>\n",
       "</table>\n",
       "</div>"
      ],
      "text/plain": [
       "  country      16.7%    median     83.3%\n",
       "0     AFG   0.209844  1.399681  3.316064\n",
       "1     AGO  -7.942651  1.780926  2.716581\n",
       "2     ALB  -0.154960  0.119903  0.203842\n",
       "3     ARE -17.594904  2.955779  5.284282\n",
       "4     ARG  -4.354172  3.325263  6.256226"
      ]
     },
     "execution_count": 16,
     "metadata": {},
     "output_type": "execute_result"
    }
   ],
   "source": [
    "csc.head()"
   ]
  },
  {
   "cell_type": "code",
   "execution_count": 20,
   "metadata": {},
   "outputs": [
    {
     "name": "stdout",
     "output_type": "stream",
     "text": [
      "Moyenne : 3.3952720980292406\n",
      "Écart-type : 11.128393245264698\n",
      "Somme : 573.8009845669417\n",
      "SE de la Somme : 144.6691121884411\n"
     ]
    }
   ],
   "source": [
    "mean_X = csc['median'].mean()\n",
    "\n",
    "# Calcul de l'erreur standard de la moyenne\n",
    "z_alpha_2 = 1.96  # pour un intervalle de confiance à 95%\n",
    "\n",
    "# Calcul de l'écart-type\n",
    "std_X = csc['median'].std()\n",
    "\n",
    "# Calcul de la somme\n",
    "sum_X = csc['median'].sum()\n",
    "\n",
    "# Calcul de l'erreur standard de la somme\n",
    "n = len(csc)\n",
    "\n",
    "# Calcul de l'écart-type de la somme\n",
    "SE_sum = std_X * (n ** 0.5)\n",
    "\n",
    "# Affichage des résultats\n",
    "print(f\"Moyenne : {mean_X}\")\n",
    "print(f\"Écart-type : {std_X}\")\n",
    "print(f\"Somme : {sum_X}\")\n",
    "print(f\"SE de la Somme : {SE_sum}\")"
   ]
  },
  {
   "cell_type": "code",
   "execution_count": 21,
   "metadata": {},
   "outputs": [
    {
     "data": {
      "text/plain": [
       "-1670.3990761954935"
      ]
     },
     "execution_count": 21,
     "metadata": {},
     "output_type": "execute_result"
    }
   ],
   "source": [
    "mscc = csc['16.7%'].sum()\n",
    "mscc"
   ]
  },
  {
   "cell_type": "code",
   "execution_count": 22,
   "metadata": {},
   "outputs": [
    {
     "data": {
      "text/plain": [
       "968.6745015970029"
      ]
     },
     "execution_count": 22,
     "metadata": {},
     "output_type": "execute_result"
    }
   ],
   "source": [
    "nscc = csc['83.3%'].sum()\n",
    "nscc"
   ]
  },
  {
   "cell_type": "code",
   "execution_count": 22,
   "metadata": {},
   "outputs": [
    {
     "data": {
      "image/png": "[encoded data removed]",
      "text/plain": [
       "<Figure size 1800x1000 with 1 Axes>"
      ]
     },
     "metadata": {},
     "output_type": "display_data"
    }
   ],
   "source": [
    "sns.set_theme(style='darkgrid')\n",
    "plt.figure(figsize=(18, 10))\n",
    "plt.bar(csc.index, csc['16.7%'], color='red', label='CI left')\n",
    "plt.bar(csc.index, csc['median'], bottom=csc['16.7%'], color='black', label='CSCC')\n",
    "plt.bar(csc.index, csc['83.3%'], bottom=csc['16.7%'] + csc['median'], color='green', label='CI right')\n",
    "plt.xlabel('Pays')\n",
    "plt.ylabel('Différence')\n",
    "plt.legend()\n",
    "plt.xticks(rotation=60)\n",
    "plt.tight_layout()\n",
    "plt.show()"
   ]
  },
  {
   "cell_type": "code",
   "execution_count": 23,
   "metadata": {},
   "outputs": [],
   "source": [
    "g_mean = df2.groupby('ISO3')[['16.7%', '50%', '83.3%']].mean()\n",
    "g_mean['country'] = g_mean.index\n",
    "g_mean = g_mean[['country', '16.7%', '50%', '83.3%']]\n",
    "g_mean = g_mean.reset_index(drop=True)\n",
    "g_mean.rename(columns={'50%':'median'}, inplace=True)\n",
    "csc = g_mean[g_mean.index != 'WLD']\n",
    "gscc = csc['median'].sum()\n",
    "# gscc"
   ]
  },
  {
   "cell_type": "code",
   "execution_count": 76,
   "metadata": {},
   "outputs": [
    {
     "name": "stderr",
     "output_type": "stream",
     "text": [
      "C:\\Users\\aurel\\AppData\\Local\\Temp\\ipykernel_77732\\1466379610.py:3: SettingWithCopyWarning: \n",
      "A value is trying to be set on a copy of a slice from a DataFrame.\n",
      "Try using .loc[row_indexer,col_indexer] = value instead\n",
      "\n",
      "See the caveats in the documentation: https://pandas.pydata.org/pandas-docs/stable/user_guide/indexing.html#returning-a-view-versus-a-copy\n",
      "  bf['SEM'] = (bf['83.3%'] - bf['16.7%']) / 2\n"
     ]
    },
    {
     "data": {
      "text/plain": [
       "(573.8009845669417, 367.5225920346357, 54.504266144754205)"
      ]
     },
     "execution_count": 76,
     "metadata": {},
     "output_type": "execute_result"
    }
   ],
   "source": [
    "bf = group[group['country'] != 'WLD']\n",
    "gscc_sum = bf['median'].sum()\n",
    "bf['SEM'] = (bf['83.3%'] - bf['16.7%']) / 2\n",
    "total_sem = (bf['SEM']**2).sum()**0.5\n",
    "std = (bf['83.3%'] - bf['16.7%']).std()\n",
    "gscc_sum, total_sem, std"
   ]
  },
  {
   "cell_type": "code",
   "execution_count": 23,
   "metadata": {},
   "outputs": [
    {
     "name": "stdout",
     "output_type": "stream",
     "text": [
      "done !\n"
     ]
    }
   ],
   "source": [
    "group.to_csv('country_level_gscc.csv', index=False)\n",
    "print('done !')"
   ]
  }
 ],
 "metadata": {
  "kernelspec": {
   "display_name": "Python 3",
   "language": "python",
   "name": "python3"
  },
  "language_info": {
   "codemirror_mode": {
    "name": "ipython",
    "version": 3
   },
   "file_extension": ".py",
   "mimetype": "text/x-python",
   "name": "python",
   "nbconvert_exporter": "python",
   "pygments_lexer": "ipython3",
   "version": "3.11.9"
  }
 },
 "nbformat": 4,
 "nbformat_minor": 2
}
